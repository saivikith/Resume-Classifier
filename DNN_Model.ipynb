{
  "nbformat": 4,
  "nbformat_minor": 0,
  "metadata": {
    "colab": {
      "name": "DNN_Model.ipynb",
      "provenance": []
    },
    "kernelspec": {
      "name": "python3",
      "display_name": "Python 3"
    },
    "accelerator": "GPU"
  },
  "cells": [
    {
      "cell_type": "code",
      "metadata": {
        "id": "_9AIeRkTf3yI",
        "colab_type": "code",
        "outputId": "7ed16cfd-7472-4296-d679-72a4ff9b3b16",
        "colab": {
          "base_uri": "https://localhost:8080/",
          "height": 190
        }
      },
      "source": [
        "# Commands to Install Required libraries\n",
        "pip install docx2txt\n",
        "pip install PyMuPDF"
      ],
      "execution_count": 0,
      "outputs": [
        {
          "output_type": "stream",
          "text": [
            "Collecting docx2txt\n",
            "  Downloading https://files.pythonhosted.org/packages/7d/7d/60ee3f2b16d9bfdfa72e8599470a2c1a5b759cb113c6fe1006be28359327/docx2txt-0.8.tar.gz\n",
            "Building wheels for collected packages: docx2txt\n",
            "  Building wheel for docx2txt (setup.py) ... \u001b[?25l\u001b[?25hdone\n",
            "  Created wheel for docx2txt: filename=docx2txt-0.8-cp36-none-any.whl size=3963 sha256=d64ec0ec8d101127af50208c98b9478c84e2c453696320ff4cb30a3b034f51aa\n",
            "  Stored in directory: /root/.cache/pip/wheels/b2/1f/26/a051209bbb77fc6bcfae2bb7e01fa0ff941b82292ab084d596\n",
            "Successfully built docx2txt\n",
            "Installing collected packages: docx2txt\n",
            "Successfully installed docx2txt-0.8\n"
          ],
          "name": "stdout"
        }
      ]
    },
    {
      "cell_type": "code",
      "metadata": {
        "id": "Uk7SDzbJcKKe",
        "colab_type": "code",
        "outputId": "3331f654-2a35-4189-d09b-bf02343a7483",
        "colab": {
          "base_uri": "https://localhost:8080/",
          "height": 165
        }
      },
      "source": [
        "#importing the libraries\n",
        "\n",
        "import os\n",
        "from sklearn.preprocessing import scale\n",
        "from sklearn.feature_extraction.text import TfidfVectorizer\n",
        "from sklearn.metrics import confusion_matrix\n",
        "\n",
        "import docx2txt\n",
        "import en_core_web_sm\n",
        "nlp = en_core_web_sm.load()\n",
        "import nltk\n",
        "from nltk.stem import PorterStemmer\n",
        "from nltk.stem import WordNetLemmatizer\n",
        "from nltk.tokenize import sent_tokenize, word_tokenize\n",
        "import re\n",
        "import pandas as pd\n",
        "import numpy as np\n",
        "from time import time \n",
        "import multiprocessing\n",
        "from gensim.models import Word2Vec\n",
        "from sklearn.manifold import TSNE\n",
        "from sklearn.model_selection import train_test_split\n",
        "\n",
        "\n",
        "import keras \n",
        "from keras.models import Sequential, Model \n",
        "from keras import layers\n",
        "from keras.layers import Dense, Conv1D, MaxPooling1D, Flatten, Dropout, Input, Embedding\n",
        "from keras.layers.merge import Concatenate\n",
        "import fitz\n",
        "\n",
        "\n",
        "nltk.download('wordnet')\n",
        "\n",
        "\n",
        "nltk.download('punkt')"
      ],
      "execution_count": 0,
      "outputs": [
        {
          "output_type": "stream",
          "text": [
            "Using TensorFlow backend.\n"
          ],
          "name": "stderr"
        },
        {
          "output_type": "display_data",
          "data": {
            "text/html": [
              "<p style=\"color: red;\">\n",
              "The default version of TensorFlow in Colab will soon switch to TensorFlow 2.x.<br>\n",
              "We recommend you <a href=\"https://www.tensorflow.org/guide/migrate\" target=\"_blank\">upgrade</a> now \n",
              "or ensure your notebook will continue to use TensorFlow 1.x via the <code>%tensorflow_version 1.x</code> magic:\n",
              "<a href=\"https://colab.research.google.com/notebooks/tensorflow_version.ipynb\" target=\"_blank\">more info</a>.</p>\n"
            ],
            "text/plain": [
              "<IPython.core.display.HTML object>"
            ]
          },
          "metadata": {
            "tags": []
          }
        },
        {
          "output_type": "stream",
          "text": [
            "[nltk_data] Downloading package wordnet to /root/nltk_data...\n",
            "[nltk_data]   Unzipping corpora/wordnet.zip.\n",
            "[nltk_data] Downloading package punkt to /root/nltk_data...\n",
            "[nltk_data]   Unzipping tokenizers/punkt.zip.\n"
          ],
          "name": "stdout"
        },
        {
          "output_type": "execute_result",
          "data": {
            "text/plain": [
              "True"
            ]
          },
          "metadata": {
            "tags": []
          },
          "execution_count": 7
        }
      ]
    },
    {
      "cell_type": "code",
      "metadata": {
        "id": "_k1Pnej-dG9t",
        "colab_type": "code",
        "colab": {}
      },
      "source": [
        "#Tokenization of files in filePath \n",
        "\n",
        "def getTokensFromFiles(filePath, label):\n",
        "  main=[]\n",
        "  for i in os.listdir(filePath):\n",
        "    if i != \".ipynb_checkpoints\" and i.endswith('pdf') == False:\n",
        "      x=i\n",
        "      try:\n",
        "        if x.endswith('docx'):\n",
        "          fname = docx2txt.process(filePath + \"/\" + x)\n",
        "        elif x.endswith('pdf'):\n",
        "          fname = \"\"\n",
        "          doc = fitz.open(filePath +\"/\" +x)\n",
        "          pages = doc.pageCount \n",
        "          for i in range(0,pages):\n",
        "            page1 = doc.loadPage(i)\n",
        "            fname += page1.getText(\"text\")\n",
        "        else:  \n",
        "          fname = open(filePath +\"/\"+ x).read()\n",
        "      except UnicodeDecodeError:\n",
        "        continue\n",
        "          \n",
        "      f1=re.sub(r'\\W+', ' ',fname)\n",
        "      \n",
        "      wordnet_lemmatizer = WordNetLemmatizer()\n",
        "      \n",
        "      words = nltk.word_tokenize(f1)\n",
        "      \n",
        "      f2=\" \"\n",
        "      for w in words:\n",
        "        f2=f2+\" \"+wordnet_lemmatizer.lemmatize(w)\n",
        "    \n",
        "      doc = nlp(f2)\n",
        "      \n",
        "      tokens = [token.text for token in doc if not token.is_stop]\n",
        "      \n",
        "      l=[]\n",
        "      l.append(tokens)\n",
        "      if label != -1:\n",
        "        l.append(label)\n",
        "      main.append(l)\n",
        "\n",
        "  return main\n",
        "\n"
      ],
      "execution_count": 0,
      "outputs": []
    },
    {
      "cell_type": "code",
      "metadata": {
        "id": "P_j-HNevdHJF",
        "colab_type": "code",
        "colab": {}
      },
      "source": [
        "import tensorflow as tf\n",
        "\n",
        "# Training the word2vec model with the preprocessed trainset\n",
        "def trainw2v(trainSet):\n",
        "  print(\"Num GPUs Available: \", len(tf.config.experimental.list_physical_devices('GPU')))\n",
        "  cores = len(tf.config.experimental.list_physical_devices('GPU'))\n",
        "  w2v_model = Word2Vec(min_count=20,\n",
        "                       window=2,\n",
        "                       size=1000,\n",
        "                       sample=6e-5, \n",
        "                       alpha=0.03, \n",
        "                       min_alpha=0.0007, \n",
        "                       negative=20,\n",
        "                       workers=cores-1)\n",
        "\n",
        "  t = time()\n",
        "  w2v_model.build_vocab(trainSet[\"Tokens\"], progress_per=1000)\n",
        "  print('Time to build vocab: {} mins'.format(round((time() - t) / 60, 2)))\n",
        "\n",
        "  w2v_model.train(trainSet[\"Tokens\"], total_examples=w2v_model.corpus_count, epochs=10000, report_delay=1)\n",
        "  print('Time to train the model: {} mins'.format(round((time() - t) / 60, 2)))\n",
        "\n",
        "  return w2v_model;"
      ],
      "execution_count": 0,
      "outputs": []
    },
    {
      "cell_type": "code",
      "metadata": {
        "id": "p6EAhPModHLk",
        "colab_type": "code",
        "colab": {}
      },
      "source": [
        "#Building the word vector \n",
        "\n",
        "def buildWordVector(w2v_model, tfidf, tokens, size):\n",
        "    vec = np.zeros(size).reshape((1, size))\n",
        "    \n",
        "    count = 0.\n",
        "    for word in tokens:\n",
        "        try:\n",
        "    \n",
        "            vec += w2v_model[word].reshape((1, size)) * tfidf[word]\n",
        "            count += 1.\n",
        "        except KeyError: # handling the case where the token is not\n",
        "                         # in the corpus. useful for testing.\n",
        "            continue\n",
        "    if count != 0:\n",
        "        vec /= count\n",
        "    \n",
        "    \n",
        "    return vec\n"
      ],
      "execution_count": 0,
      "outputs": []
    },
    {
      "cell_type": "code",
      "metadata": {
        "id": "1aZdAKUDdHOO",
        "colab_type": "code",
        "colab": {}
      },
      "source": [
        "# Train and save the DNN model\n",
        "def saveModel(train_vecs_w2v, y_train, test_vecs_w2v, y_test):\n",
        "  dnn_model = Sequential()\n",
        "  dnn_model.add(Dense(128, activation='relu', input_dim=1000))\n",
        "  dnn_model.add(Dropout(0.7))\n",
        "  dnn_model.add(Dense(1, activation='sigmoid'))\n",
        "  dnn_model.compile(optimizer='adadelta',\n",
        "                loss='binary_crossentropy',\n",
        "                metrics=['accuracy'])\n",
        "  dnn_model.summary()\n",
        "  earlystop = EarlyStopping(monitor = 'loss',\n",
        "                          min_delta = 0,\n",
        "                          patience = 3,\n",
        "                          verbose = 1,\n",
        "                          restore_best_weights = True)  \n",
        "  history = dnn_model.fit(train_vecs_w2v, y_train, epochs=60, batch_size=50,validation_data=(test_vecs_w2v,y_test), callbacks=[earlystop])\n",
        "  loss, accuracy = dnn_model.evaluate(train_vecs_w2v, y_train, verbose=False)\n",
        "  print(\"Training Accuracy: {:.4f}\".format(accuracy))\n",
        "  loss, accuracy = dnn_model.evaluate(test_vecs_w2v, y_test, verbose=False)\n",
        "  print(\"Testing Accuracy:  {:.4f}\".format(accuracy))\n",
        "  dnn_model.save(\"/content/sample_data/DNN_Model\", overwrite=True, include_optimizer=True)\n",
        "\n"
      ],
      "execution_count": 0,
      "outputs": []
    },
    {
      "cell_type": "code",
      "metadata": {
        "id": "07ngA8Y7dbl2",
        "colab_type": "code",
        "outputId": "a72b0bc5-7f14-45f2-f3a0-e243ef37305d",
        "colab": {
          "base_uri": "https://localhost:8080/",
          "height": 34
        }
      },
      "source": [
        "\n",
        "import tensorflow as tf\n",
        "print(\"Num GPUs Available: \", len(tf.config.experimental.list_physical_devices('GPU')))\n",
        "\n",
        "#Preparing tokens from raw data\n",
        "\n",
        "with tf.device('/GPU:0'):\n",
        "  training_test = []\n",
        "  training_test = training_test + getTokensFromFiles(\"/content/drive/My Drive/resume/Training & Test/Resume\", 1)\n",
        "  training_test = training_test + getTokensFromFiles(\"/content/drive/My Drive/resume/Training & Test/Non Resume\", 0)\n",
        "  prediction = getTokensFromFiles(\"/content/drive/My Drive/resume/Prediction /Resume\", -1)\n",
        "  prediction = prediction + getTokensFromFiles(\"/content/drive/My Drive/resume/Prediction /Non Resume\", -1)\n",
        "\n",
        "\n",
        "  #Creating Dataframes for Training & prediction tokens\n",
        "\n",
        "\n",
        "  train_df = pd.DataFrame(training_test, columns = ['Tokens', 'Label'])\n",
        "  pred_df = pd.DataFrame(prediction, columns = ['Tokens'])\n",
        "\n"
      ],
      "execution_count": 13,
      "outputs": [
        {
          "output_type": "stream",
          "text": [
            "Num GPUs Available:  1\n"
          ],
          "name": "stdout"
        }
      ]
    },
    {
      "cell_type": "code",
      "metadata": {
        "id": "8vD72IqudbjT",
        "colab_type": "code",
        "outputId": "a6aced77-8b54-482d-acb5-86f538f8c9bd",
        "colab": {
          "base_uri": "https://localhost:8080/",
          "height": 102
        }
      },
      "source": [
        "import tensorflow as tf\n",
        "print(\"Num GPUs Available: \", len(tf.config.experimental.list_physical_devices('GPU')))\n",
        "\n",
        "\n",
        "#Train Word2Vec model with personal data\n",
        "\n",
        "with tf.device('/GPU:0'):\n",
        "  trained_w2v_model = trainw2v(train_df)\n",
        "\n",
        "y = train_df['Label'].values\n",
        "X = np.array(train_df[\"Tokens\"])\n",
        "\n",
        "#Split the training and test set in provided ratio\n",
        "X_train, X_test, y_train, y_test = train_test_split(X, y, test_size = 0.3, random_state = 0)\n",
        "X_pred = np.array(pred_df[\"Tokens\"])\n",
        "\n",
        "vectorizer = TfidfVectorizer(analyzer=lambda x: x, min_df=10)\n",
        "\n",
        "matrix = vectorizer.fit_transform([x for x in X_train])\n",
        "\n",
        "tfidf = dict(zip(vectorizer.get_feature_names(), vectorizer.idf_))\n",
        "print ('vocab size :', len(tfidf))\n"
      ],
      "execution_count": 15,
      "outputs": [
        {
          "output_type": "stream",
          "text": [
            "Num GPUs Available:  1\n",
            "Num GPUs Available:  1\n",
            "Time to build vocab: 0.0 mins\n",
            "Time to train the model: 0.09 mins\n",
            "vocab size : 920\n"
          ],
          "name": "stdout"
        }
      ]
    },
    {
      "cell_type": "code",
      "metadata": {
        "id": "5isaJm-Pdbg7",
        "colab_type": "code",
        "outputId": "20caacf8-9b77-4ad1-aef1-b1f484e07e29",
        "colab": {
          "base_uri": "https://localhost:8080/",
          "height": 122
        }
      },
      "source": [
        "import numpy as np\n",
        "\n",
        "#Build the word vectors for train, test & prediction dataset \n",
        "train_vecs_w2v = np.concatenate([buildWordVector(trained_w2v_model, tfidf , z, 1000) for z in map(lambda x: x, X_train)])\n",
        "test_vecs_w2v = np.concatenate([buildWordVector(trained_w2v_model, tfidf , z, 1000) for z in map(lambda x: x, X_test)])\n",
        "pred_vec_w2v = np.concatenate([buildWordVector(trained_w2v_model, tfidf , z, 1000) for z in map(lambda x: x, X_pred)])\n",
        "\n",
        "#Scale the vectors\n",
        "train_vecs_w2v = scale(train_vecs_w2v)\n",
        "test_vecs_w2v = scale(test_vecs_w2v)\n",
        "pred_vec_w2v = scale(pred_vec_w2v)\n",
        "\n",
        "\n",
        "print ('shape for training set : ',train_vecs_w2v.shape,\n",
        "      '\\nshape for test set : ', test_vecs_w2v.shape,\n",
        "       '\\nshape for predicted set : ', pred_vec_w2v.shape,) \n"
      ],
      "execution_count": 16,
      "outputs": [
        {
          "output_type": "stream",
          "text": [
            "/usr/local/lib/python3.6/dist-packages/ipykernel_launcher.py:8: DeprecationWarning: Call to deprecated `__getitem__` (Method will be removed in 4.0.0, use self.wv.__getitem__() instead).\n",
            "  \n"
          ],
          "name": "stderr"
        },
        {
          "output_type": "stream",
          "text": [
            "shape for training set :  (208, 1000) \n",
            "shape for test set :  (90, 1000) \n",
            "shape for predicted set :  (2, 1000)\n"
          ],
          "name": "stdout"
        }
      ]
    },
    {
      "cell_type": "code",
      "metadata": {
        "id": "FLPUM1_kdbeE",
        "colab_type": "code",
        "outputId": "c6d6df60-4032-45c0-b58c-c2b60ac8b099",
        "colab": {
          "base_uri": "https://localhost:8080/",
          "height": 1000
        }
      },
      "source": [
        "#Train and save the DNN model \n",
        "\n",
        "from keras.callbacks import EarlyStopping \n",
        "saveModel(train_vecs_w2v, y_train, test_vecs_w2v, y_test)"
      ],
      "execution_count": 17,
      "outputs": [
        {
          "output_type": "stream",
          "text": [
            "WARNING:tensorflow:From /usr/local/lib/python3.6/dist-packages/keras/backend/tensorflow_backend.py:66: The name tf.get_default_graph is deprecated. Please use tf.compat.v1.get_default_graph instead.\n",
            "\n",
            "WARNING:tensorflow:From /usr/local/lib/python3.6/dist-packages/keras/backend/tensorflow_backend.py:541: The name tf.placeholder is deprecated. Please use tf.compat.v1.placeholder instead.\n",
            "\n",
            "WARNING:tensorflow:From /usr/local/lib/python3.6/dist-packages/keras/backend/tensorflow_backend.py:4432: The name tf.random_uniform is deprecated. Please use tf.random.uniform instead.\n",
            "\n",
            "WARNING:tensorflow:From /usr/local/lib/python3.6/dist-packages/keras/backend/tensorflow_backend.py:148: The name tf.placeholder_with_default is deprecated. Please use tf.compat.v1.placeholder_with_default instead.\n",
            "\n",
            "WARNING:tensorflow:From /usr/local/lib/python3.6/dist-packages/keras/backend/tensorflow_backend.py:3733: calling dropout (from tensorflow.python.ops.nn_ops) with keep_prob is deprecated and will be removed in a future version.\n",
            "Instructions for updating:\n",
            "Please use `rate` instead of `keep_prob`. Rate should be set to `rate = 1 - keep_prob`.\n",
            "WARNING:tensorflow:Large dropout rate: 0.7 (>0.5). In TensorFlow 2.x, dropout() uses dropout rate instead of keep_prob. Please ensure that this is intended.\n",
            "WARNING:tensorflow:From /usr/local/lib/python3.6/dist-packages/keras/optimizers.py:793: The name tf.train.Optimizer is deprecated. Please use tf.compat.v1.train.Optimizer instead.\n",
            "\n",
            "WARNING:tensorflow:From /usr/local/lib/python3.6/dist-packages/keras/backend/tensorflow_backend.py:3657: The name tf.log is deprecated. Please use tf.math.log instead.\n",
            "\n",
            "WARNING:tensorflow:From /usr/local/lib/python3.6/dist-packages/tensorflow_core/python/ops/nn_impl.py:183: where (from tensorflow.python.ops.array_ops) is deprecated and will be removed in a future version.\n",
            "Instructions for updating:\n",
            "Use tf.where in 2.0, which has the same broadcast rule as np.where\n",
            "Model: \"sequential_1\"\n",
            "_________________________________________________________________\n",
            "Layer (type)                 Output Shape              Param #   \n",
            "=================================================================\n",
            "dense_1 (Dense)              (None, 128)               128128    \n",
            "_________________________________________________________________\n",
            "dropout_1 (Dropout)          (None, 128)               0         \n",
            "_________________________________________________________________\n",
            "dense_2 (Dense)              (None, 1)                 129       \n",
            "=================================================================\n",
            "Total params: 128,257\n",
            "Trainable params: 128,257\n",
            "Non-trainable params: 0\n",
            "_________________________________________________________________\n",
            "WARNING:tensorflow:From /usr/local/lib/python3.6/dist-packages/keras/backend/tensorflow_backend.py:1033: The name tf.assign_add is deprecated. Please use tf.compat.v1.assign_add instead.\n",
            "\n",
            "WARNING:tensorflow:From /usr/local/lib/python3.6/dist-packages/keras/backend/tensorflow_backend.py:1020: The name tf.assign is deprecated. Please use tf.compat.v1.assign instead.\n",
            "\n",
            "WARNING:tensorflow:From /usr/local/lib/python3.6/dist-packages/keras/backend/tensorflow_backend.py:3005: The name tf.Session is deprecated. Please use tf.compat.v1.Session instead.\n",
            "\n",
            "Train on 208 samples, validate on 90 samples\n",
            "Epoch 1/60\n",
            "WARNING:tensorflow:From /usr/local/lib/python3.6/dist-packages/keras/backend/tensorflow_backend.py:190: The name tf.get_default_session is deprecated. Please use tf.compat.v1.get_default_session instead.\n",
            "\n",
            "WARNING:tensorflow:From /usr/local/lib/python3.6/dist-packages/keras/backend/tensorflow_backend.py:197: The name tf.ConfigProto is deprecated. Please use tf.compat.v1.ConfigProto instead.\n",
            "\n",
            "WARNING:tensorflow:From /usr/local/lib/python3.6/dist-packages/keras/backend/tensorflow_backend.py:207: The name tf.global_variables is deprecated. Please use tf.compat.v1.global_variables instead.\n",
            "\n",
            "WARNING:tensorflow:From /usr/local/lib/python3.6/dist-packages/keras/backend/tensorflow_backend.py:216: The name tf.is_variable_initialized is deprecated. Please use tf.compat.v1.is_variable_initialized instead.\n",
            "\n",
            "WARNING:tensorflow:From /usr/local/lib/python3.6/dist-packages/keras/backend/tensorflow_backend.py:223: The name tf.variables_initializer is deprecated. Please use tf.compat.v1.variables_initializer instead.\n",
            "\n",
            "208/208 [==============================] - 15s 74ms/step - loss: 0.8948 - acc: 0.6154 - val_loss: 0.3731 - val_acc: 0.8667\n",
            "Epoch 2/60\n",
            "208/208 [==============================] - 0s 127us/step - loss: 0.4485 - acc: 0.8077 - val_loss: 0.3728 - val_acc: 0.9000\n",
            "Epoch 3/60\n",
            "208/208 [==============================] - 0s 119us/step - loss: 0.4677 - acc: 0.8654 - val_loss: 0.2492 - val_acc: 0.8889\n",
            "Epoch 4/60\n",
            "208/208 [==============================] - 0s 133us/step - loss: 0.3048 - acc: 0.9279 - val_loss: 0.2048 - val_acc: 0.9111\n",
            "Epoch 5/60\n",
            "208/208 [==============================] - 0s 104us/step - loss: 0.1637 - acc: 0.9615 - val_loss: 0.1903 - val_acc: 0.9444\n",
            "Epoch 6/60\n",
            "208/208 [==============================] - 0s 119us/step - loss: 0.2421 - acc: 0.9375 - val_loss: 0.1778 - val_acc: 0.9333\n",
            "Epoch 7/60\n",
            "208/208 [==============================] - 0s 123us/step - loss: 0.2843 - acc: 0.9423 - val_loss: 0.1722 - val_acc: 0.9333\n",
            "Epoch 8/60\n",
            "208/208 [==============================] - 0s 154us/step - loss: 0.1911 - acc: 0.9615 - val_loss: 0.1615 - val_acc: 0.9444\n",
            "Restoring model weights from the end of the best epoch\n",
            "Epoch 00008: early stopping\n",
            "Training Accuracy: 0.9808\n",
            "Testing Accuracy:  0.9444\n"
          ],
          "name": "stdout"
        }
      ]
    },
    {
      "cell_type": "code",
      "metadata": {
        "id": "hXNSpLBudbbM",
        "colab_type": "code",
        "outputId": "ac489b8c-4512-4ef6-8faa-f588501a21f9",
        "colab": {
          "base_uri": "https://localhost:8080/",
          "height": 105
        }
      },
      "source": [
        "from keras.models import load_model\n",
        "\n",
        "trained_model = load_model(\"/content/sample_data/DNN_Model\")\n",
        "\n",
        "l = trained_model.predict(pred_vec_w2v, verbose=True)\n",
        "print(l)"
      ],
      "execution_count": 18,
      "outputs": [
        {
          "output_type": "stream",
          "text": [
            "WARNING:tensorflow:Large dropout rate: 0.7 (>0.5). In TensorFlow 2.x, dropout() uses dropout rate instead of keep_prob. Please ensure that this is intended.\n",
            "2/2 [==============================] - 0s 25ms/step\n",
            "[[0.93321955]\n",
            " [0.1075175 ]]\n"
          ],
          "name": "stdout"
        }
      ]
    }
  ]
}